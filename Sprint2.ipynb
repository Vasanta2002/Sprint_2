{
  "nbformat": 4,
  "nbformat_minor": 0,
  "metadata": {
    "colab": {
      "provenance": [],
      "authorship_tag": "ABX9TyPy//ULsCDfQA+ASiVYpP55",
      "include_colab_link": true
    },
    "kernelspec": {
      "name": "python3",
      "display_name": "Python 3"
    },
    "language_info": {
      "name": "python"
    }
  },
  "cells": [
    {
      "cell_type": "markdown",
      "metadata": {
        "id": "view-in-github",
        "colab_type": "text"
      },
      "source": [
        "<a href=\"https://colab.research.google.com/github/Vasanta2002/Sprint_2/blob/main/Sprint2.ipynb\" target=\"_parent\"><img src=\"https://colab.research.google.com/assets/colab-badge.svg\" alt=\"Open In Colab\"/></a>"
      ]
    },
    {
      "cell_type": "markdown",
      "source": [
        "#Explain the Purpose of a t-test and Identify Applications"
      ],
      "metadata": {
        "id": "R87fPbYxrB6T"
      }
    },
    {
      "cell_type": "code",
      "execution_count": null,
      "metadata": {
        "colab": {
          "base_uri": "https://localhost:8080/",
          "height": 573
        },
        "id": "OEUZNiOgq9cR",
        "outputId": "541038a1-4a0d-4835-fa79-4332bcf56c67"
      },
      "outputs": [
        {
          "output_type": "stream",
          "name": "stderr",
          "text": [
            "/usr/local/lib/python3.7/dist-packages/seaborn/distributions.py:2619: FutureWarning: `distplot` is a deprecated function and will be removed in a future version. Please adapt your code to use either `displot` (a figure-level function with similar flexibility) or `histplot` (an axes-level function for histograms).\n",
            "  warnings.warn(msg, FutureWarning)\n"
          ]
        },
        {
          "output_type": "execute_result",
          "data": {
            "text/plain": [
              "Text(0.5, 1.0, 'The normal distribution')"
            ]
          },
          "metadata": {},
          "execution_count": 1
        },
        {
          "output_type": "display_data",
          "data": {
            "text/plain": [
              "<Figure size 576x576 with 1 Axes>"
            ],
            "image/png": "[encoded data removed]"
          },
          "metadata": {
            "needs_background": "light"
          }
        }
      ],
      "source": [
        "import numpy as np\n",
        "\n",
        "# The mean of a normal distribution can be any value\n",
        "# (we're using 0 for plotting nicely and to see the symmetry)\n",
        "mean = 0\n",
        "\n",
        "# The width of the normal distribution is set by the standard deviation\n",
        "sigma = 1 \n",
        "\n",
        "# Create a sample drawn from the normal distribution\n",
        "sample = np.random.normal(loc=mean, scale=sigma, size=1000)\n",
        "\n",
        "# Import plotting libaries\n",
        "import seaborn as sns\n",
        "import matplotlib.pyplot as plt\n",
        "\n",
        "# The 'seaborn' style sheet has nice defaults\n",
        "plt.style.use('seaborn-bright')\n",
        "\n",
        "# Create the fig and axes object and plot\n",
        "fig, ax = plt.subplots(figsize=(8,8))\n",
        "ax = sns.distplot(sample)\n",
        "ax.set_title('The normal distribution', fontsize=16)"
      ]
    },
    {
      "cell_type": "markdown",
      "source": [
        "The t-values and t-tests\n",
        "\n",
        "In some situations, we draw a sample from a population where we don't know that population's mean. For example, in the normal distribution plotted above, we set the mean equal to one. \n",
        "\n",
        "In this case, we need to substitute something else to compare to: we can use the sample's mean. When we use the mean of the sample and not the mean of the population from which we drew the sample, we calculate the t-value. So it is similar to the z-score; instead, we're using the mean of the sample.\n",
        "\n",
        "A t-test is based on a t-value. When you perform a t-test for a single study, you obtain a single t-value. If you drew lots of random samples of the same size from the same population, performed a t-test each time (to obtain a t-value), you could then plot a distribution of all the t-values. This type of distribution is called a sampling distribution and, in this case, a t-distribution.\n",
        "\n",
        "Thanks to math and statisticians, the properties of t-distributions are well understood, so we can plot them without having to draw samples, calculate the t-value, etc. A specific t-distribution is defined by its degrees of freedom (dof), with a sample size-1. So there is a whole \"family\" of t-distributions for every sample size. For large samples size (n > 120), the shape of the t-distribution is almost identical to the normal di"
      ],
      "metadata": {
        "id": "J1VYJlN73Zbq"
      }
    },
    {
      "cell_type": "code",
      "source": [
        "# Import the libraries\n",
        "import numpy as np\n",
        "import matplotlib.pyplot as plt\n",
        "import seaborn as sns\n",
        "\n",
        "# Create the t-distributions\n",
        "t_df10 = np.random.standard_t(df=10, size=100)\n",
        "t_df100 = np.random.standard_t(df=100, size=1000)\n",
        "t_df1000 = np.random.standard_t(df=1000, size=10000)\n",
        "\n",
        "# Create the normal distribution\n",
        "s = np.random.normal(size=10000)\n",
        "\n",
        "# Create the figure and axes objects and plots\n",
        "fig, ax = plt.subplots(1)\n",
        "\n",
        "# Plot t-distributions\n",
        "ax = sns.kdeplot(t_df10, color='r');\n",
        "ax = sns.kdeplot(t_df100, color='y');\n",
        "ax = sns.kdeplot(t_df1000, color='b');\n",
        "\n",
        "# Plot normal distributions\n",
        "sns.kdeplot(s, color='k');\n"
      ],
      "metadata": {
        "id": "WNFGeW_P3eiO"
      },
      "execution_count": null,
      "outputs": []
    },
    {
      "cell_type": "markdown",
      "source": [
        "#Set Up and Run a one-sample or two-sample t-test"
      ],
      "metadata": {
        "id": "TaHqV7W74p0L"
      }
    },
    {
      "cell_type": "code",
      "source": [
        "# Import the stats module\n",
        "from scipy import stats\n",
        "\n",
        "# Generate the random test scores with the specified mean, std, and sample size\n",
        "rvs = stats.norm.rvs(loc=69, scale=6.5, size=50, random_state=42)\n",
        "\n",
        "# Display the test scores, as a check\n",
        "rvs\n",
        "\n",
        "# Check the sample mean and std\n",
        "print('The mean of the sample: ', rvs.mean())\n",
        "print('The standard deviation of the sample: ', rvs.std())\n",
        "\n",
        "# Calculate the t value using the ttest_1samp \n",
        "stats.ttest_1samp(rvs, popmean=72)"
      ],
      "metadata": {
        "colab": {
          "base_uri": "https://localhost:8080/"
        },
        "id": "biurBLPi4yGp",
        "outputId": "52254fce-bef0-41e9-b74f-69709e4c3ea5"
      },
      "execution_count": null,
      "outputs": [
        {
          "output_type": "stream",
          "name": "stdout",
          "text": [
            "The mean of the sample:  67.53441961583509\n",
            "The standard deviation of the sample:  6.00785209617076\n"
          ]
        },
        {
          "output_type": "execute_result",
          "data": {
            "text/plain": [
              "Ttest_1sampResult(statistic=-5.2030346601039055, pvalue=3.841987344207577e-06)"
            ]
          },
          "metadata": {},
          "execution_count": 4
        }
      ]
    },
    {
      "cell_type": "code",
      "source": [
        "# Import the library\n",
        "import numpy as np\n",
        "\n",
        "# Calculate the t-value\n",
        "tstatistic = (67.53-72)/(6.01/np.sqrt(50))\n",
        "print('The t-statistic is: ', tstatistic)"
      ],
      "metadata": {
        "colab": {
          "base_uri": "https://localhost:8080/"
        },
        "id": "IaRfdKqYank9",
        "outputId": "b1351def-6c25-4ec1-9069-7959f606f29d"
      },
      "execution_count": null,
      "outputs": [
        {
          "output_type": "stream",
          "name": "stdout",
          "text": [
            "The t-statistic is:  -5.259180219473988\n"
          ]
        }
      ]
    },
    {
      "cell_type": "code",
      "source": [
        "# Import the stats module\n",
        "from scipy import stats\n",
        "\n",
        "# Generate the random test scores with the specified mean, std, and sample size\n",
        "rvs1 = stats.norm.rvs(loc=69, scale=7.5, size=80, random_state=50)\n",
        "\n",
        "# Display the test scores, as a check\n",
        "rvs1\n",
        "\n",
        "# Check the sample mean and std\n",
        "print('The mean of the sample: ', rvs1.mean())\n",
        "print('The standard deviation of the sample: ', rvs1.std())\n",
        "\n",
        "# Calculate the t value using the ttest_1samp \n",
        "stats.ttest_1samp(rvs1, popmean=72)"
      ],
      "metadata": {
        "colab": {
          "base_uri": "https://localhost:8080/"
        },
        "id": "veZF7wS8xNGM",
        "outputId": "8919ca5c-7437-42ef-c3a1-49ef4b973732"
      },
      "execution_count": null,
      "outputs": [
        {
          "output_type": "stream",
          "name": "stdout",
          "text": [
            "The mean of the sample:  70.03380209170375\n",
            "The standard deviation of the sample:  7.307925777765827\n"
          ]
        },
        {
          "output_type": "execute_result",
          "data": {
            "text/plain": [
              "Ttest_1sampResult(statistic=-2.3913692890842504, pvalue=0.019163724240099506)"
            ]
          },
          "metadata": {},
          "execution_count": 1
        }
      ]
    },
    {
      "cell_type": "markdown",
      "source": [
        "#Set Up and Run a Two-sample Independent t-test"
      ],
      "metadata": {
        "id": "GK6ZCBm-hSfK"
      }
    },
    {
      "cell_type": "code",
      "source": [
        "For the two-sample t-tests, it's more challenging to calculate the t-value by hand; the equation is a little longer, \n",
        "and it's more involved when the sizes and variance/standard deviation are different for the two samples. \n",
        "So we'll use the power of Python!\n",
        "\n",
        "Calculate with NumPy and SciPy\n",
        "Here are the parameters we are using for our two-sample t-test:\n",
        "\n",
        "cardio-based program: mean=69 bpm, std=6.5 bpm\n",
        "yoga-based program: mean=71 bpm, std=7.3 bpm\n",
        "Let's use some NumPy and SciPy tools to generate a normal distribution with the specified parameters. \n",
        "We have the sample means, sample standard deviations, and population mean (72). \n",
        "We'll create a distribution of random variables with the given mean (loc) and standard deviation (*scale)."
      ],
      "metadata": {
        "id": "9vyQqeMchX1S"
      },
      "execution_count": null,
      "outputs": []
    },
    {
      "cell_type": "code",
      "source": [
        "# Import the libraries\n",
        "import numpy as np\n",
        "from scipy import stats\n",
        "np.random.seed(42)\n",
        "\n",
        "# Generate the random variables with the specified mean, std, and sample size\n",
        "rvs1 = stats.norm.rvs(loc=5, scale=10,size=500)\n",
        "rvs2 = stats.norm.rvs(loc=5, scale=20, size=500)\n",
        "\n",
        "# Calculate the t statistic for these two sample populations\n",
        "stats.ttest_ind(rvs1, rvs2)"
      ],
      "metadata": {
        "colab": {
          "base_uri": "https://localhost:8080/"
        },
        "id": "7ohEucbwJfsb",
        "outputId": "471431e4-9a19-45c7-e0bc-0314f03069c8"
      },
      "execution_count": null,
      "outputs": [
        {
          "output_type": "execute_result",
          "data": {
            "text/plain": [
              "Ttest_indResult(statistic=-0.5805372888262401, pvalue=0.5616834058141496)"
            ]
          },
          "metadata": {},
          "execution_count": 1
        }
      ]
    },
    {
      "cell_type": "markdown",
      "source": [
        "# Chi-squares"
      ],
      "metadata": {
        "id": "_SV1MMRH1vUM"
      }
    },
    {
      "cell_type": "code",
      "source": [
        "# Import the libraries\n",
        "import numpy as np\n",
        "from scipy.stats import chi2_contingency\n",
        "\n",
        "# Create the table using as a NumPy array\n",
        "table = np.array([[200, 290], [400, 910]])\n",
        "\n",
        "# Print out the table to double-check\n",
        "print('Contingency table: \\n', table)"
      ],
      "metadata": {
        "id": "Z_F_6uuf11Ox",
        "outputId": "0316bfaf-5119-47e2-e5ba-ef527457ef94",
        "colab": {
          "base_uri": "https://localhost:8080/"
        }
      },
      "execution_count": null,
      "outputs": [
        {
          "output_type": "stream",
          "name": "stdout",
          "text": [
            "Contingency table: \n",
            " [[200 290]\n",
            " [400 910]]\n"
          ]
        }
      ]
    },
    {
      "cell_type": "code",
      "source": [
        "# Perform the chi-square test\n",
        "stat, p, dof, expected = chi2_contingency(table, correction=False)\n",
        "\n",
        "# Print out the stats in a nice format\n",
        "print('Expected values: \\n ', expected.round(2))\n",
        "print(f'The chi square statistics is: {stat:.3f}')\n",
        "print(f'The p value is: {p:.6f}')"
      ],
      "metadata": {
        "id": "Bf8pToDz2JMp",
        "outputId": "6a2e448b-ef58-471e-b4fd-fb03e64def04",
        "colab": {
          "base_uri": "https://localhost:8080/"
        }
      },
      "execution_count": null,
      "outputs": [
        {
          "output_type": "stream",
          "name": "stdout",
          "text": [
            "Expected values: \n",
            "  [[163.33 326.67]\n",
            " [436.67 873.33]]\n",
            "The chi square statistics is: 16.965\n",
            "The p value is: 0.000038\n"
          ]
        }
      ]
    }
  ]
}